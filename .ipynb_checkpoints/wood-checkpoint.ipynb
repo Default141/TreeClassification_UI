{
 "cells": [
  {
   "cell_type": "code",
   "execution_count": 131,
   "metadata": {},
   "outputs": [],
   "source": [
    "from tensorflow import keras\n",
    "\n",
    "from fastai.vision.widgets import *\n",
    "from fastai.vision.all import *"
   ]
  },
  {
   "cell_type": "markdown",
   "metadata": {},
   "source": [
    "# Wood Detection\n",
    "\n",
    "เรามาตรวจจับประเภทของเนื้อไม้กันดีกว่า ทุกคน!"
   ]
  },
  {
   "cell_type": "code",
   "execution_count": 132,
   "metadata": {},
   "outputs": [],
   "source": [
    "path = Path()"
   ]
  },
  {
   "cell_type": "code",
   "execution_count": 133,
   "metadata": {},
   "outputs": [],
   "source": [
    "modelWood = keras.models.load_model(path/\"saved_model_Wood/\")\n",
    "modelBark = keras.models.load_model(path/\"saved_model_Bark/\")"
   ]
  },
  {
   "cell_type": "code",
   "execution_count": 134,
   "metadata": {},
   "outputs": [],
   "source": [
    "btn_upload = widgets.FileUpload()\n",
    "btn_run = widgets.Button(description=\"Classify\")\n",
    "output_image = widgets.Output()\n",
    "output_label = widgets.Label()"
   ]
  },
  {
   "cell_type": "code",
   "execution_count": 143,
   "metadata": {},
   "outputs": [],
   "source": [
    "def on_click_classify_button(change):\n",
    "    image = PILImage.create(btn_upload.data[-1])\n",
    "    output_image.clear_output()\n",
    "    with output_image:\n",
    "        display(image.to_thumb(128, 128))\n",
    "        \n",
    "    pred = modelWood.predict(np.expand_dims(array(image.resize((150, 150)))/255, axis=0))\n",
    "    index = np.argmax(pred[0])\n",
    "    pred = pred[0][index]\n",
    "    \n",
    "    if index == 0:\n",
    "        output_label.value = f\"Wood type : A : {pred}\"    \n",
    "    elif index == 1:\n",
    "        output_label.value = f\"Wood type : B : {pred}\"  \n",
    "    elif index == 2:\n",
    "        output_label.value = f\"Wood type : C : {pred}\"  \n",
    "    else :\n",
    "        output_label.value = f\"Wood type : {index} : {pred}\"   "
   ]
  },
  {
   "cell_type": "code",
   "execution_count": 144,
   "metadata": {},
   "outputs": [],
   "source": [
    "btn_upload_bark = widgets.FileUpload()\n",
    "btn_run_bark = widgets.Button(description=\"Classify\")\n",
    "output_image_bark = widgets.Output()\n",
    "output_label_bark = widgets.Label()"
   ]
  },
  {
   "cell_type": "code",
   "execution_count": 145,
   "metadata": {},
   "outputs": [],
   "source": [
    "def on_click_bark_classify_button(change):\n",
    "    image = PILImage.create(btn_upload_bark.data[-1])\n",
    "    output_image_bark.clear_output()\n",
    "    with output_image_bark:\n",
    "        display(image.to_thumb(128, 128))\n",
    "        \n",
    "    pred = modelBark.predict(np.expand_dims(array(image.resize((150, 150)))/255, axis=0))\n",
    "    index = np.argmax(pred[0])\n",
    "    pred = pred[0][index]\n",
    "    \n",
    "    if index == 0:\n",
    "        output_label_bark.value = f\"Tree type : A : {pred}\"    \n",
    "    elif index == 1:\n",
    "        output_label_bark.value = f\"Tree type : B : {pred}\"  \n",
    "    elif index == 2:\n",
    "        output_label_bark.value = f\"Tree type : C : {pred}\"  \n",
    "    elif index == 3:\n",
    "        output_label_bark.value = f\"Tree type : D : {pred}\" \n",
    "    else :\n",
    "        output_label.value = f\"Wood type : {index} : {pred}\"   "
   ]
  },
  {
   "cell_type": "code",
   "execution_count": 138,
   "metadata": {},
   "outputs": [],
   "source": [
    "btn_run.on_click(on_click_classify_button)"
   ]
  },
  {
   "cell_type": "code",
   "execution_count": 139,
   "metadata": {},
   "outputs": [],
   "source": [
    "btn_run_bark.on_click(on_click_bark_classify_button)"
   ]
  },
  {
   "cell_type": "code",
   "execution_count": 140,
   "metadata": {},
   "outputs": [
    {
     "data": {
      "application/vnd.jupyter.widget-view+json": {
       "model_id": "c0daeb7b7bc54b30aa4a05ef2288bc0c",
       "version_major": 2,
       "version_minor": 0
      },
      "text/plain": [
       "VBox(children=(Label(value=\"Select your Wood! and Let's Enjoy.\"), FileUpload(value={}, description='Upload'), …"
      ]
     },
     "metadata": {},
     "output_type": "display_data"
    }
   ],
   "source": [
    "VBox([widgets.Label(\"Select your Wood! and Let's Enjoy.\"), btn_upload, btn_run, output_image, output_label])"
   ]
  },
  {
   "cell_type": "markdown",
   "metadata": {},
   "source": [
    "# Bark Classification\n",
    "\n",
    "เรามาแยกประเทของต้นไม้กันดีกว่า ทุกคน!"
   ]
  },
  {
   "cell_type": "code",
   "execution_count": 141,
   "metadata": {},
   "outputs": [
    {
     "data": {
      "application/vnd.jupyter.widget-view+json": {
       "model_id": "4543cad12729444887c32a3ed36d3928",
       "version_major": 2,
       "version_minor": 0
      },
      "text/plain": [
       "VBox(children=(Label(value=\"Select your ฺBark! and Let's Enjoy.\"), FileUpload(value={}, description='Upload'),…"
      ]
     },
     "metadata": {},
     "output_type": "display_data"
    }
   ],
   "source": [
    "VBox([widgets.Label(\"Select your ฺBark! and Let's Enjoy.\"), btn_upload_bark, btn_run_bark, output_image_bark, output_label_bark])"
   ]
  },
  {
   "cell_type": "code",
   "execution_count": 142,
   "metadata": {},
   "outputs": [],
   "source": [
    "a = ['10','3']"
   ]
  },
  {
   "cell_type": "code",
   "execution_count": 69,
   "metadata": {},
   "outputs": [],
   "source": [
    "a.sort()"
   ]
  },
  {
   "cell_type": "code",
   "execution_count": 70,
   "metadata": {},
   "outputs": [
    {
     "data": {
      "text/plain": [
       "['10', '3']"
      ]
     },
     "execution_count": 70,
     "metadata": {},
     "output_type": "execute_result"
    }
   ],
   "source": [
    "a"
   ]
  },
  {
   "cell_type": "code",
   "execution_count": 71,
   "metadata": {},
   "outputs": [
    {
     "data": {
      "text/plain": [
       "True"
      ]
     },
     "execution_count": 71,
     "metadata": {},
     "output_type": "execute_result"
    }
   ],
   "source": [
    "3.0034036e-16 < 1.0000000e+00"
   ]
  },
  {
   "cell_type": "code",
   "execution_count": null,
   "metadata": {},
   "outputs": [],
   "source": []
  }
 ],
 "metadata": {
  "kernelspec": {
   "display_name": "Python 3",
   "language": "python",
   "name": "python3"
  },
  "language_info": {
   "codemirror_mode": {
    "name": "ipython",
    "version": 3
   },
   "file_extension": ".py",
   "mimetype": "text/x-python",
   "name": "python",
   "nbconvert_exporter": "python",
   "pygments_lexer": "ipython3",
   "version": "3.8.7"
  }
 },
 "nbformat": 4,
 "nbformat_minor": 2
}
