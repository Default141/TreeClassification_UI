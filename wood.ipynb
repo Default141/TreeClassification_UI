{
 "cells": [
  {
   "cell_type": "code",
   "execution_count": 1,
   "metadata": {},
   "outputs": [],
   "source": [
    "# from tensorflow import keras\n",
    "\n",
    "from fastai.vision.widgets import *\n",
    "from fastai.vision.all import *"
   ]
  },
  {
   "cell_type": "markdown",
   "metadata": {},
   "source": [
    "# Wood Detection\n",
    "\n",
    "เรามาตรวจจับประเภทของเนื้อไม้กันดีกว่า ทุกคน!"
   ]
  },
  {
   "cell_type": "code",
   "execution_count": 2,
   "metadata": {},
   "outputs": [],
   "source": [
    "path = Path()"
   ]
  },
  {
   "cell_type": "code",
   "execution_count": 3,
   "metadata": {},
   "outputs": [],
   "source": [
    "# modelWood = keras.models.load_model(path/\"saved_model_Wood/\")\n",
    "# modelBark = keras.models.load_model(path/\"saved_model_Bark/\")"
   ]
  },
  {
   "cell_type": "code",
   "execution_count": 4,
   "metadata": {},
   "outputs": [],
   "source": [
    "btn_upload = widgets.FileUpload()\n",
    "btn_run = widgets.Button(description=\"Classify\")\n",
    "output_image = widgets.Output()\n",
    "output_label = widgets.Label()"
   ]
  },
  {
   "cell_type": "code",
   "execution_count": 5,
   "metadata": {},
   "outputs": [],
   "source": [
    "def on_click_classify_button(change):\n",
    "    image = PILImage.create(btn_upload.data[-1])\n",
    "    output_image.clear_output()\n",
    "    with output_image:\n",
    "        display(image.to_thumb(128, 128))\n",
    "        \n",
    "    pred = modelWood.predict(np.expand_dims(array(image.resize((150, 150))), axis=0))\n",
    "    output_label.value = f\"Prediction Probability: {pred[0][0]}\"    "
   ]
  },
  {
   "cell_type": "code",
   "execution_count": 6,
   "metadata": {},
   "outputs": [],
   "source": [
    "btn_upload_bark = widgets.FileUpload()\n",
    "btn_run_bark = widgets.Button(description=\"Classify\")\n",
    "output_image_bark = widgets.Output()\n",
    "output_label_bark = widgets.Label()"
   ]
  },
  {
   "cell_type": "code",
   "execution_count": 7,
   "metadata": {},
   "outputs": [],
   "source": [
    "def on_click_bark_classify_button(change):\n",
    "    image = PILImage.create(btn_upload_bark.data[-1])\n",
    "    output_image.clear_output()\n",
    "    with output_image:\n",
    "        display(image.to_thumb(128, 128))\n",
    "        \n",
    "    pred = modelBark.predict(np.expand_dims(array(image.resize((150, 150))), axis=0))\n",
    "    output_label.value = f\"Prediction Probability: {pred[0][0]}\"    "
   ]
  },
  {
   "cell_type": "code",
   "execution_count": 8,
   "metadata": {},
   "outputs": [],
   "source": [
    "btn_run.on_click(on_click_classify_button)"
   ]
  },
  {
   "cell_type": "code",
   "execution_count": 9,
   "metadata": {},
   "outputs": [],
   "source": [
    "btn_run_bark.on_click(on_click_bark_classify_button)"
   ]
  },
  {
   "cell_type": "code",
   "execution_count": 10,
   "metadata": {},
   "outputs": [
    {
     "data": {
      "application/vnd.jupyter.widget-view+json": {
       "model_id": "4d0fdd96fa414538b20fae1d4af13a38",
       "version_major": 2,
       "version_minor": 0
      },
      "text/plain": [
       "VBox(children=(Label(value=\"Select your Wood! and Let's Enjoy.\"), FileUpload(value={}, description='Upload'), …"
      ]
     },
     "metadata": {},
     "output_type": "display_data"
    }
   ],
   "source": [
    "VBox([widgets.Label(\"Select your Wood! and Let's Enjoy.\"), btn_upload, btn_run, output_image, output_label])"
   ]
  },
  {
   "cell_type": "markdown",
   "metadata": {},
   "source": [
    "# Bark Classification\n",
    "\n",
    "เรามาแยกประเทของต้นไม้กันดีกว่า ทุกคน!"
   ]
  },
  {
   "cell_type": "code",
   "execution_count": 11,
   "metadata": {},
   "outputs": [
    {
     "data": {
      "application/vnd.jupyter.widget-view+json": {
       "model_id": "c810770b9c4143f19380c820412b4c6e",
       "version_major": 2,
       "version_minor": 0
      },
      "text/plain": [
       "VBox(children=(Label(value=\"Select your ฺBark! and Let's Enjoy.\"), FileUpload(value={}, description='Upload'),…"
      ]
     },
     "metadata": {},
     "output_type": "display_data"
    }
   ],
   "source": [
    "VBox([widgets.Label(\"Select your ฺBark! and Let's Enjoy.\"), btn_upload_bark, btn_run_bark, output_image_bark, output_label_bark])"
   ]
  },
  {
   "cell_type": "code",
   "execution_count": null,
   "metadata": {},
   "outputs": [],
   "source": []
  },
  {
   "cell_type": "code",
   "execution_count": null,
   "metadata": {},
   "outputs": [],
   "source": []
  }
 ],
 "metadata": {
  "kernelspec": {
   "display_name": "Python 3",
   "language": "python",
   "name": "python3"
  },
  "language_info": {
   "codemirror_mode": {
    "name": "ipython",
    "version": 3
   },
   "file_extension": ".py",
   "mimetype": "text/x-python",
   "name": "python",
   "nbconvert_exporter": "python",
   "pygments_lexer": "ipython3",
   "version": "3.8.8"
  }
 },
 "nbformat": 4,
 "nbformat_minor": 2
}
